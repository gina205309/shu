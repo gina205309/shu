{
 "cells": [
  {
   "cell_type": "code",
   "execution_count": 1,
   "metadata": {},
   "outputs": [
    {
     "data": {
      "text/plain": [
       "1"
      ]
     },
     "execution_count": 1,
     "metadata": {},
     "output_type": "execute_result"
    }
   ],
   "source": [
    "number = 1\n",
    "number"
   ]
  },
  {
   "cell_type": "code",
   "execution_count": 2,
   "metadata": {},
   "outputs": [
    {
     "data": {
      "text/plain": [
       "'3'"
      ]
     },
     "execution_count": 2,
     "metadata": {},
     "output_type": "execute_result"
    }
   ],
   "source": [
    "string = '3'\n",
    "string"
   ]
  },
  {
   "cell_type": "code",
   "execution_count": 3,
   "metadata": {},
   "outputs": [
    {
     "ename": "TypeError",
     "evalue": "unsupported operand type(s) for +: 'int' and 'str'",
     "output_type": "error",
     "traceback": [
      "\u001b[0;31m---------------------------------------------------------------------------\u001b[0m",
      "\u001b[0;31mTypeError\u001b[0m                                 Traceback (most recent call last)",
      "\u001b[0;32m<ipython-input-3-92d1885e4cef>\u001b[0m in \u001b[0;36m<module>\u001b[0;34m\u001b[0m\n\u001b[0;32m----> 1\u001b[0;31m \u001b[0mnumber\u001b[0m \u001b[0;34m+\u001b[0m \u001b[0mstring\u001b[0m\u001b[0;34m\u001b[0m\u001b[0;34m\u001b[0m\u001b[0m\n\u001b[0m",
      "\u001b[0;31mTypeError\u001b[0m: unsupported operand type(s) for +: 'int' and 'str'"
     ]
    }
   ],
   "source": [
    "number + string"
   ]
  },
  {
   "cell_type": "code",
   "execution_count": 4,
   "metadata": {},
   "outputs": [
    {
     "data": {
      "text/plain": [
       "3"
      ]
     },
     "execution_count": 4,
     "metadata": {},
     "output_type": "execute_result"
    }
   ],
   "source": [
    "eval(string)"
   ]
  },
  {
   "cell_type": "code",
   "execution_count": 5,
   "metadata": {},
   "outputs": [
    {
     "ename": "TypeError",
     "evalue": "unsupported operand type(s) for +: 'int' and 'str'",
     "output_type": "error",
     "traceback": [
      "\u001b[0;31m---------------------------------------------------------------------------\u001b[0m",
      "\u001b[0;31mTypeError\u001b[0m                                 Traceback (most recent call last)",
      "\u001b[0;32m<ipython-input-5-08f5d4bec1e0>\u001b[0m in \u001b[0;36m<module>\u001b[0;34m\u001b[0m\n\u001b[0;32m----> 1\u001b[0;31m \u001b[0mnumber\u001b[0m \u001b[0;34m+\u001b[0m \u001b[0meval\u001b[0m\u001b[0;34m(\u001b[0m\u001b[0mnumber\u001b[0m \u001b[0;34m+\u001b[0m \u001b[0mstring\u001b[0m\u001b[0;34m)\u001b[0m\u001b[0;34m\u001b[0m\u001b[0;34m\u001b[0m\u001b[0m\n\u001b[0m",
      "\u001b[0;31mTypeError\u001b[0m: unsupported operand type(s) for +: 'int' and 'str'"
     ]
    }
   ],
   "source": [
    "number + eval(number + string)"
   ]
  },
  {
   "cell_type": "code",
   "execution_count": 6,
   "metadata": {},
   "outputs": [
    {
     "name": "stdout",
     "output_type": "stream",
     "text": [
      "13\n"
     ]
    }
   ],
   "source": [
    "print(str(number)+string)"
   ]
  },
  {
   "cell_type": "code",
   "execution_count": 7,
   "metadata": {},
   "outputs": [
    {
     "name": "stdout",
     "output_type": "stream",
     "text": [
      "1 3\n"
     ]
    }
   ],
   "source": [
    "print(number, string)"
   ]
  },
  {
   "cell_type": "code",
   "execution_count": 8,
   "metadata": {},
   "outputs": [
    {
     "name": "stdout",
     "output_type": "stream",
     "text": [
      "Hello world!\n",
      "1 3\n"
     ]
    }
   ],
   "source": [
    "print('Hello world!')\n",
    "print(number, string)"
   ]
  },
  {
   "cell_type": "code",
   "execution_count": 9,
   "metadata": {},
   "outputs": [
    {
     "name": "stdout",
     "output_type": "stream",
     "text": [
      "200 100\n"
     ]
    }
   ],
   "source": [
    "a = 100\n",
    "b = 200\n",
    "temp = a\n",
    "a = b\n",
    "b = temp\n",
    "print(a, b)"
   ]
  },
  {
   "cell_type": "code",
   "execution_count": 10,
   "metadata": {},
   "outputs": [
    {
     "data": {
      "text/plain": [
       "2"
      ]
     },
     "execution_count": 10,
     "metadata": {},
     "output_type": "execute_result"
    }
   ],
   "source": [
    "a = 1\n",
    "a += 1\n",
    "a"
   ]
  },
  {
   "cell_type": "code",
   "execution_count": 12,
   "metadata": {},
   "outputs": [
    {
     "name": "stdout",
     "output_type": "stream",
     "text": [
      "5\n"
     ]
    }
   ],
   "source": [
    "a = input()"
   ]
  },
  {
   "cell_type": "code",
   "execution_count": 14,
   "metadata": {},
   "outputs": [
    {
     "name": "stdout",
     "output_type": "stream",
     "text": [
      "1\n"
     ]
    },
    {
     "data": {
      "text/plain": [
       "1"
      ]
     },
     "execution_count": 14,
     "metadata": {},
     "output_type": "execute_result"
    }
   ],
   "source": [
    "a = eval(input())\n",
    "a"
   ]
  },
  {
   "cell_type": "code",
   "execution_count": 15,
   "metadata": {},
   "outputs": [
    {
     "data": {
      "text/plain": [
       "-0.9589242746631385"
      ]
     },
     "execution_count": 15,
     "metadata": {},
     "output_type": "execute_result"
    }
   ],
   "source": [
    "import math\n",
    "math.sin(5)"
   ]
  },
  {
   "cell_type": "code",
   "execution_count": 16,
   "metadata": {},
   "outputs": [
    {
     "data": {
      "text/plain": [
       "True"
      ]
     },
     "execution_count": 16,
     "metadata": {},
     "output_type": "execute_result"
    }
   ],
   "source": [
    "5>3"
   ]
  },
  {
   "cell_type": "code",
   "execution_count": 17,
   "metadata": {},
   "outputs": [
    {
     "data": {
      "text/plain": [
       "False"
      ]
     },
     "execution_count": 17,
     "metadata": {},
     "output_type": "execute_result"
    }
   ],
   "source": [
    "1>3"
   ]
  },
  {
   "cell_type": "code",
   "execution_count": 18,
   "metadata": {},
   "outputs": [
    {
     "data": {
      "text/plain": [
       "False"
      ]
     },
     "execution_count": 18,
     "metadata": {},
     "output_type": "execute_result"
    }
   ],
   "source": [
    "(5>3) and (1>3)"
   ]
  },
  {
   "cell_type": "code",
   "execution_count": 19,
   "metadata": {},
   "outputs": [
    {
     "data": {
      "text/plain": [
       "False"
      ]
     },
     "execution_count": 19,
     "metadata": {},
     "output_type": "execute_result"
    }
   ],
   "source": [
    "(5<3) and (3<6)"
   ]
  },
  {
   "cell_type": "code",
   "execution_count": 20,
   "metadata": {},
   "outputs": [
    {
     "data": {
      "text/plain": [
       "True"
      ]
     },
     "execution_count": 20,
     "metadata": {},
     "output_type": "execute_result"
    }
   ],
   "source": [
    "(5>3) or (1<3)"
   ]
  },
  {
   "cell_type": "code",
   "execution_count": 21,
   "metadata": {},
   "outputs": [
    {
     "data": {
      "text/plain": [
       "False"
      ]
     },
     "execution_count": 21,
     "metadata": {},
     "output_type": "execute_result"
    }
   ],
   "source": [
    "(2>3) or (1>3)"
   ]
  },
  {
   "cell_type": "code",
   "execution_count": 22,
   "metadata": {},
   "outputs": [
    {
     "data": {
      "text/plain": [
       "True"
      ]
     },
     "execution_count": 22,
     "metadata": {},
     "output_type": "execute_result"
    }
   ],
   "source": [
    "not (2>3) or (1>3)"
   ]
  },
  {
   "cell_type": "code",
   "execution_count": 23,
   "metadata": {},
   "outputs": [
    {
     "name": "stdout",
     "output_type": "stream",
     "text": [
      "5\n",
      "5 is a odd number.\n"
     ]
    }
   ],
   "source": [
    "num = eval(input())\n",
    "if num %2 ==0:\n",
    "    print(num, 'is an even number.')\n",
    "else:\n",
    "    print(num, 'is a odd number.')"
   ]
  },
  {
   "cell_type": "code",
   "execution_count": 24,
   "metadata": {},
   "outputs": [
    {
     "name": "stdout",
     "output_type": "stream",
     "text": [
      "total= 0 k= 2\n",
      "total= 2 k= 4\n",
      "total= 6 k= 6\n",
      "total= 12 k= 8\n",
      "total= 20 k= 10\n",
      "total= 30 k= 12\n",
      "total= 42 k= 14\n",
      "total= 56 k= 16\n",
      "total= 72 k= 18\n",
      "total= 90 k= 20\n",
      "total= 110 k= 22\n",
      "total= 132 k= 24\n",
      "total= 156 k= 26\n",
      "total= 182 k= 28\n",
      "total= 210 k= 30\n",
      "total= 240 k= 32\n",
      "total= 272 k= 34\n",
      "total= 306 k= 36\n",
      "total= 342 k= 38\n",
      "total= 380 k= 40\n",
      "2+4+6+7+8+...+38+40= 420\n"
     ]
    }
   ],
   "source": [
    "total = 0\n",
    "k = 2\n",
    "while k <= 40:\n",
    "    print('total=', total,'k=',k)\n",
    "    total = total + k\n",
    "    k += 2\n",
    "print('2+4+6+7+8+...+38+40=',total)"
   ]
  },
  {
   "cell_type": "code",
   "execution_count": 25,
   "metadata": {},
   "outputs": [
    {
     "ename": "NameError",
     "evalue": "name 'true' is not defined",
     "output_type": "error",
     "traceback": [
      "\u001b[0;31m---------------------------------------------------------------------------\u001b[0m",
      "\u001b[0;31mNameError\u001b[0m                                 Traceback (most recent call last)",
      "\u001b[0;32m<ipython-input-25-f324207cbbbf>\u001b[0m in \u001b[0;36m<module>\u001b[0;34m\u001b[0m\n\u001b[0;32m----> 1\u001b[0;31m \u001b[0;32mwhile\u001b[0m \u001b[0mtrue\u001b[0m\u001b[0;34m:\u001b[0m\u001b[0;34m\u001b[0m\u001b[0;34m\u001b[0m\u001b[0m\n\u001b[0m\u001b[1;32m      2\u001b[0m     \u001b[0mprint\u001b[0m\u001b[0;34m(\u001b[0m\u001b[0;36m1\u001b[0m\u001b[0;34m)\u001b[0m\u001b[0;34m\u001b[0m\u001b[0;34m\u001b[0m\u001b[0m\n\u001b[1;32m      3\u001b[0m     \u001b[0;32mif\u001b[0m \u001b[0m條件\u001b[0m\u001b[0;34m:\u001b[0m\u001b[0;34m\u001b[0m\u001b[0;34m\u001b[0m\u001b[0m\n\u001b[1;32m      4\u001b[0m         \u001b[0;32mbreak\u001b[0m\u001b[0;34m\u001b[0m\u001b[0;34m\u001b[0m\u001b[0m\n",
      "\u001b[0;31mNameError\u001b[0m: name 'true' is not defined"
     ]
    }
   ],
   "source": [
    "while true:\n",
    "    print(1)\n",
    "    if 條件:\n",
    "        break"
   ]
  },
  {
   "cell_type": "code",
   "execution_count": 26,
   "metadata": {},
   "outputs": [
    {
     "name": "stdout",
     "output_type": "stream",
     "text": [
      "total0= 0 k0= 2\n",
      "total1= 2 k1= 4\n",
      "total0= 2 k0= 4\n",
      "total1= 6 k1= 6\n",
      "total0= 6 k0= 6\n",
      "total1= 12 k1= 8\n",
      "total0= 12 k0= 8\n",
      "total1= 20 k1= 10\n",
      "total0= 20 k0= 10\n",
      "total1= 30 k1= 12\n",
      "total0= 30 k0= 12\n",
      "total1= 42 k1= 14\n",
      "total0= 42 k0= 14\n",
      "total1= 56 k1= 16\n",
      "total0= 56 k0= 16\n",
      "total1= 72 k1= 18\n",
      "total0= 72 k0= 18\n",
      "total1= 90 k1= 20\n",
      "total0= 90 k0= 20\n",
      "total1= 110 k1= 22\n",
      "total0= 110 k0= 22\n",
      "total1= 132 k1= 24\n",
      "total0= 132 k0= 24\n",
      "total1= 156 k1= 26\n",
      "total0= 156 k0= 26\n",
      "total1= 182 k1= 28\n",
      "total0= 182 k0= 28\n",
      "total1= 210 k1= 30\n",
      "total0= 210 k0= 30\n",
      "total1= 240 k1= 32\n",
      "total0= 240 k0= 32\n",
      "total1= 272 k1= 34\n",
      "total0= 272 k0= 34\n",
      "total1= 306 k1= 36\n",
      "total0= 306 k0= 36\n",
      "total1= 342 k1= 38\n",
      "total0= 342 k0= 38\n",
      "total1= 380 k1= 40\n",
      "total0= 380 k0= 40\n",
      "total1= 420 k1= 42\n",
      "2+4+6+7+8+...+38+40= 420\n"
     ]
    }
   ],
   "source": [
    "total = 0\n",
    "k = 2\n",
    "while k <= 40:\n",
    "    print('total0=', total,'k0=',k)#顯示初始值\n",
    "    total = total + k\n",
    "    k += 2\n",
    "    print('total1=', total,'k1=',k)#顯示結束時得值\n",
    "print('2+4+6+7+8+...+38+40=',total)"
   ]
  },
  {
   "cell_type": "code",
   "execution_count": 27,
   "metadata": {},
   "outputs": [
    {
     "name": "stdout",
     "output_type": "stream",
     "text": [
      "total= 0 i= 2\n",
      "total= 2 i= 4\n",
      "total= 6 i= 6\n",
      "total= 12 i= 8\n",
      "total= 20 i= 10\n",
      "total= 30 i= 12\n",
      "total= 42 i= 14\n",
      "total= 56 i= 16\n",
      "total= 72 i= 18\n",
      "total= 90 i= 20\n",
      "total= 110 i= 22\n",
      "total= 132 i= 24\n",
      "total= 156 i= 26\n",
      "total= 182 i= 28\n",
      "total= 210 i= 30\n",
      "total= 240 i= 32\n",
      "total= 272 i= 34\n",
      "total= 306 i= 36\n",
      "total= 342 i= 38\n",
      "total= 380 i= 40\n",
      "2+4+6+8+...+38+40= 420\n"
     ]
    }
   ],
   "source": [
    "total = 0\n",
    "for i in range(2, 41, 2):\n",
    "    print('total=',total,'i=',i)\n",
    "    total += i\n",
    "print('2+4+6+8+...+38+40=',total)"
   ]
  },
  {
   "cell_type": "code",
   "execution_count": 28,
   "metadata": {},
   "outputs": [
    {
     "name": "stdout",
     "output_type": "stream",
     "text": [
      "1\n",
      "2\n",
      "3\n",
      "4\n",
      "5\n",
      "6\n",
      "7\n",
      "8\n",
      "9\n",
      "結束\n"
     ]
    }
   ],
   "source": [
    "i = 0\n",
    "while True:    #T要大寫\n",
    "    i += 1\n",
    "    if i >=10:\n",
    "        break    #直接跳出迴圈，所以沒有10\n",
    "    print(i)\n",
    "print('結束')"
   ]
  },
  {
   "cell_type": "code",
   "execution_count": 29,
   "metadata": {},
   "outputs": [
    {
     "name": "stdout",
     "output_type": "stream",
     "text": [
      "1 是奇數\n",
      "3 是奇數\n",
      "5 是奇數\n",
      "7 是奇數\n",
      "9 是奇數\n",
      "11 是奇數\n"
     ]
    }
   ],
   "source": [
    "i = 0\n",
    "while i <= 10:\n",
    "    i +=1\n",
    "    if i %2 ==0:\n",
    "        continue    #直接回到迴圈的開頭\n",
    "    print(i,'是奇數')"
   ]
  },
  {
   "cell_type": "code",
   "execution_count": null,
   "metadata": {},
   "outputs": [],
   "source": []
  }
 ],
 "metadata": {
  "kernelspec": {
   "display_name": "Python 3",
   "language": "python",
   "name": "python3"
  },
  "language_info": {
   "codemirror_mode": {
    "name": "ipython",
    "version": 3
   },
   "file_extension": ".py",
   "mimetype": "text/x-python",
   "name": "python",
   "nbconvert_exporter": "python",
   "pygments_lexer": "ipython3",
   "version": "3.8.3"
  }
 },
 "nbformat": 4,
 "nbformat_minor": 2
}
