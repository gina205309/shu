{
 "cells": [
  {
   "cell_type": "code",
   "execution_count": null,
   "metadata": {},
   "outputs": [],
   "source": [
    "fiveMulti = 0\n",
    "k = 5\n",
    "while k <= 100:\n",
    "    fiveMulti += k\n",
    "    k += 5\n",
    "print(fiveMulti)"
   ]
  },
  {
   "cell_type": "code",
   "execution_count": null,
   "metadata": {},
   "outputs": [],
   "source": [
    "for i in range(10):\n",
    "    print(i, end='')\n",
    "print('')\n",
    "\n",
    "for i in range(2, 10):\n",
    "    print(i, end='')\n",
    "print('')\n",
    "\n",
    "for i in range(1, 10, 2):\n",
    "    print(i, end='')\n",
    "print('')\n",
    "\n",
    "for i in range(9, 1, -2):\n",
    "    print(i, end='')\n",
    "print('')"
   ]
  },
  {
   "cell_type": "code",
   "execution_count": null,
   "metadata": {},
   "outputs": [],
   "source": [
    "for i in range(10):\n",
    "    print('%3d'%(i), end='')\n",
    "print('')\n",
    "\n",
    "for i in range(2, 10):\n",
    "    print('%3d'%(i), end='')\n",
    "print('')\n",
    "\n",
    "for i in range(1, 10, 2):\n",
    "    print('%3d'%(i), end='')\n",
    "print('')\n",
    "\n",
    "for i in range(9, 1, -2):\n",
    "    print('%3d'%(i), end='')\n",
    "print('')"
   ]
  },
  {
   "cell_type": "code",
   "execution_count": null,
   "metadata": {},
   "outputs": [],
   "source": [
    "total = 0\n",
    "num = 0\n",
    "while True:\n",
    "    num += 1\n",
    "    total += num\n",
    "    if total >= 5050:\n",
    "        break\n",
    "print('1+2+3+...+%d = %d'%(num, total))"
   ]
  },
  {
   "cell_type": "code",
   "execution_count": null,
   "metadata": {},
   "outputs": [],
   "source": [
    "total = 0\n",
    "num = 1\n",
    "while num <= 100:\n",
    "    if num % 2 == 0:\n",
    "        num += 1\n",
    "        continue\n",
    "    total += num\n",
    "    num += 1\n",
    "print('1+3+5..+99=', total)"
   ]
  },
  {
   "cell_type": "code",
   "execution_count": null,
   "metadata": {},
   "outputs": [],
   "source": [
    "total = 0\n",
    "for i  in range(1, 101):\n",
    "    if i % 2 == 1:\n",
    "        total += i\n",
    "    else:\n",
    "        continue\n",
    "print('1+3+5..+99=', total)"
   ]
  },
  {
   "cell_type": "code",
   "execution_count": null,
   "metadata": {},
   "outputs": [],
   "source": [
    "for i in range(10):\n",
    "    for j in range(i, 10):\n",
    "        print('*', end='')\n",
    "    print('')"
   ]
  },
  {
   "cell_type": "code",
   "execution_count": null,
   "metadata": {},
   "outputs": [],
   "source": [
    "for i in range(9):\n",
    "    for j in range(i):\n",
    "        print('*', end='')\n",
    "    print('')"
   ]
  },
  {
   "cell_type": "code",
   "execution_count": null,
   "metadata": {},
   "outputs": [],
   "source": [
    "total = 0\n",
    "i = 1\n",
    "while i <= 100:\n",
    "    i += 1\n",
    "    total += i\n",
    "print('total = %d'%total)"
   ]
  },
  {
   "cell_type": "code",
   "execution_count": null,
   "metadata": {},
   "outputs": [],
   "source": [
    "total = 0\n",
    "i = 1\n",
    "while i < 100:\n",
    "    total += i\n",
    "    i += 1\n",
    "print('total = %d'%total)"
   ]
  },
  {
   "cell_type": "code",
   "execution_count": null,
   "metadata": {},
   "outputs": [],
   "source": [
    "i = 8\n",
    "while i >= 1:\n",
    "    j = 1\n",
    "    while j <= i:\n",
    "        print('%2d'%(j), end = '')\n",
    "        j += 1\n",
    "    print()\n",
    "    i -= 1\n",
    "print()"
   ]
  },
  {
   "cell_type": "code",
   "execution_count": null,
   "metadata": {},
   "outputs": [],
   "source": [
    "total = 0\n",
    "for i in range(100, 1, 2):\n",
    "    total += i\n",
    "print('total = %d'%(total))"
   ]
  },
  {
   "cell_type": "code",
   "execution_count": null,
   "metadata": {},
   "outputs": [],
   "source": [
    "total = 0\n",
    "for i in range(100 , 1, -2):\n",
    "    total += i\n",
    "print('total = %d'%(total))"
   ]
  },
  {
   "cell_type": "code",
   "execution_count": null,
   "metadata": {},
   "outputs": [],
   "source": [
    "fiveMulti = 0\n",
    "k = 10\n",
    "while k <= 100:\n",
    "    fiveMulti += k\n",
    "    k += 5\n",
    "print(fiveMulti)"
   ]
  },
  {
   "cell_type": "code",
   "execution_count": null,
   "metadata": {},
   "outputs": [],
   "source": [
    "fiveMulti = 0\n",
    "k = 10\n",
    "while k <= 100:\n",
    "    fiveMulti += k\n",
    "    k += 5\n",
    "print(fiveMulti)"
   ]
  },
  {
   "cell_type": "code",
   "execution_count": 5,
   "metadata": {},
   "outputs": [
    {
     "name": "stdout",
     "output_type": "stream",
     "text": [
      "1+2+3+...+2 = 5152\n"
     ]
    }
   ],
   "source": [
    "num = 1\n",
    "while True:\n",
    "    num += 1\n",
    "    total += num\n",
    "    if total >= 5050:\n",
    "        break\n",
    "print('1+2+3+...+%d = %d'%(num, total))"
   ]
  },
  {
   "cell_type": "code",
   "execution_count": null,
   "metadata": {},
   "outputs": [],
   "source": []
  }
 ],
 "metadata": {
  "kernelspec": {
   "display_name": "Python 3",
   "language": "python",
   "name": "python3"
  },
  "language_info": {
   "codemirror_mode": {
    "name": "ipython",
    "version": 3
   },
   "file_extension": ".py",
   "mimetype": "text/x-python",
   "name": "python",
   "nbconvert_exporter": "python",
   "pygments_lexer": "ipython3",
   "version": "3.8.3"
  }
 },
 "nbformat": 4,
 "nbformat_minor": 4
}
