{
 "cells": [
  {
   "cell_type": "code",
   "execution_count": 9,
   "metadata": {},
   "outputs": [
    {
     "name": "stdout",
     "output_type": "stream",
     "text": [
      "輸入邊數: 5\n",
      "輸入邊長: 6.5\n",
      "Area =  72.69017017488385\n"
     ]
    }
   ],
   "source": [
    "import math\n",
    "n = eval(input('輸入邊數: '))\n",
    "s = eval(input('輸入邊長: '))\n",
    "a = math.tan((math.pi)/n)\n",
    "print('Area = ', (n*(s**2))/(4*a))"
   ]
  },
  {
   "cell_type": "code",
   "execution_count": 10,
   "metadata": {},
   "outputs": [
    {
     "name": "stdout",
     "output_type": "stream",
     "text": [
      "輸入座標x1: 2\n",
      "輸入座標y1: 1\n",
      "輸入座標x2: 5.5\n",
      "輸入座標y2: 8\n",
      "座標1: ( 2 , 1 )\n",
      "座標2: ( 5.5 , 8 )\n",
      "Distance =  7.826237921249264\n"
     ]
    }
   ],
   "source": [
    "x1 = eval(input('輸入座標x1: '))\n",
    "y1 = eval(input('輸入座標y1: '))\n",
    "x2 = eval(input('輸入座標x2: '))\n",
    "y2 = eval(input('輸入座標y2: '))\n",
    "print('座標1: (', x1,',', y1,')')\n",
    "print('座標2: (', x2,',', y2,')')\n",
    "print('Distance = ', (((x1-x2)**2)+((y1-y2)**2))**(1/2))"
   ]
  },
  {
   "cell_type": "code",
   "execution_count": 12,
   "metadata": {},
   "outputs": [
    {
     "name": "stdout",
     "output_type": "stream",
     "text": [
      "三角形的邊長（1): 3\n",
      "三角形的邊長（2): 4\n",
      "三角形的邊長（3): 5\n",
      "面積 =  6.0\n"
     ]
    }
   ],
   "source": [
    "import math\n",
    "a = eval(input('三角形的邊長（1): '))\n",
    "b = eval(input('三角形的邊長（2): '))\n",
    "c = eval(input('三角形的邊長（3): '))\n",
    "s = (a+b+c)/2\n",
    "print('面積 = ', math.sqrt(s*(s-a)*(s-b)*(s-c)))"
   ]
  },
  {
   "cell_type": "code",
   "execution_count": 13,
   "metadata": {},
   "outputs": [
    {
     "name": "stdout",
     "output_type": "stream",
     "text": [
      "輸入二元一次方程式的a: 3\n",
      "輸入二元一次方程式的b: 4\n",
      "輸入二元一次方程式的c: 5\n",
      "7.076696830622022\n",
      "-19.076696830622023\n"
     ]
    }
   ],
   "source": [
    "import math\n",
    "a = eval(input('輸入二元一次方程式的a: '))\n",
    "b = eval(input('輸入二元一次方程式的b: '))\n",
    "c = eval(input('輸入二元一次方程式的c: '))\n",
    "D = b**2--4*a*c\n",
    "d = math.sqrt(D)\n",
    "print((-b+d)/2*a)\n",
    "print((-b-d)/2*a)"
   ]
  },
  {
   "cell_type": "code",
   "execution_count": 8,
   "metadata": {},
   "outputs": [
    {
     "name": "stdout",
     "output_type": "stream",
     "text": [
      "輸入x1: 39.55\n",
      "輸入y1: -116.24\n",
      "輸入x2: 41.5\n",
      "輸入y2: 87.37\n",
      "Enter point1 (latitude and longitude) in degress:  39.55 , -116.24\n",
      "Enter point2 (latitude and longitude) in degress:  41.5 , 87.37\n",
      "The distance between the points is  -1093.2750373215724 km\n"
     ]
    }
   ],
   "source": [
    "import math\n",
    "x1 = eval(input('輸入緯度1: '))\n",
    "y1 = eval(input('輸入經度1: '))\n",
    "x2 = eval(input('輸入緯度2: '))\n",
    "y2 = eval(input('輸入經度2: '))\n",
    "radius = 6371.01\n",
    "d = radius * math.acos(math.sin(x1)) * math.sin(x2) + math.cos(x1) * math.cos(x2) * math.cos(y1-y2)\n",
    "print('Enter point1 (latitude and longitude) in degress: ', x1,',',y1)\n",
    "print('Enter point2 (latitude and longitude) in degress: ', x2,',',y2)\n",
    "print('The distance between the points is ', d ,'km') "
   ]
  }
 ],
 "metadata": {
  "kernelspec": {
   "display_name": "Python 3",
   "language": "python",
   "name": "python3"
  },
  "language_info": {
   "codemirror_mode": {
    "name": "ipython",
    "version": 3
   },
   "file_extension": ".py",
   "mimetype": "text/x-python",
   "name": "python",
   "nbconvert_exporter": "python",
   "pygments_lexer": "ipython3",
   "version": "3.8.3"
  }
 },
 "nbformat": 4,
 "nbformat_minor": 4
}
