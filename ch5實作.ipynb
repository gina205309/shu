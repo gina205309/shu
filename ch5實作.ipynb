{
 "cells": [
  {
   "cell_type": "code",
   "execution_count": null,
   "metadata": {},
   "outputs": [],
   "source": [
    "score = eval(input('輸入購物金額: '))\n",
    "if score >= 5000 and score < 15000:\n",
    "    score *= 0.95\n",
    "if score >= 15000 and score < 25000:\n",
    "    score *= 0.9\n",
    "if score >= 25000 and score < 35000:\n",
    "    score *= 0.85\n",
    "elif score >= 35000:\n",
    "    score *= 0.8\n",
    "    \n",
    "print('折扣後金額: %d'%(score))"
   ]
  },
  {
   "cell_type": "code",
   "execution_count": null,
   "metadata": {},
   "outputs": [],
   "source": [
    "x = eval(input('輸入月份: '))\n",
    "state = ''\n",
    "\n",
    "if x <= 3:\n",
    "    state = '春天'\n",
    "if x >= 4 and x <= 6:\n",
    "    state = '夏天'\n",
    "if x >= 7 and x <= 9:\n",
    "    state = '秋天'\n",
    "if x >= 10 and x <= 12:\n",
    "    state = '冬天'\n",
    "    \n",
    "print(state)"
   ]
  },
  {
   "cell_type": "code",
   "execution_count": null,
   "metadata": {},
   "outputs": [],
   "source": [
    "a = eval(input('輸入歲數: '))\n",
    "state = ''\n",
    "\n",
    "if a <= 5:\n",
    "    state = '免費'\n",
    "if a >= 6 and a <= 11:\n",
    "    state = '590元'\n",
    "if a >= 12 and a <= 17:\n",
    "    state = '790元'\n",
    "if a >= 18 and a <= 59:\n",
    "    state = '890元'\n",
    "elif a >= 60:\n",
    "    state = '399元'\n",
    "    \n",
    "print(state)"
   ]
  },
  {
   "cell_type": "code",
   "execution_count": null,
   "metadata": {},
   "outputs": [],
   "source": [
    "m = eval(input('輸入一整數: '))\n",
    "s = ''\n",
    "\n",
    "if m%3 == 0:\n",
    "    print('是3的倍數')\n",
    "else:\n",
    "    print('不是3的倍數')\n",
    "if m%5 == 0:\n",
    "    print('是5的倍數')\n",
    "else:\n",
    "    print('不是5的倍數')\n",
    "\n",
    "print(s)"
   ]
  },
  {
   "cell_type": "code",
   "execution_count": 24,
   "metadata": {},
   "outputs": [
    {
     "name": "stdout",
     "output_type": "stream",
     "text": [
      "輸入一字元: 9\n",
      "9是數字"
     ]
    }
   ],
   "source": [
    "x = input('輸入一字元: ')\n",
    "\n",
    "if x >= 'a' and x <= 'z':\n",
    "    print('%c是小寫'%(x))\n",
    "elif x >= 'A' and x <= 'Z':\n",
    "    print('%c是大寫'%(x))\n",
    "elif x >= '0' and x <='9':\n",
    "    print((x), end='是數字')\n",
    "else:\n",
    "    print('%c是特殊字元'%(x))"
   ]
  },
  {
   "cell_type": "code",
   "execution_count": null,
   "metadata": {},
   "outputs": [],
   "source": []
  }
 ],
 "metadata": {
  "kernelspec": {
   "display_name": "Python 3",
   "language": "python",
   "name": "python3"
  },
  "language_info": {
   "codemirror_mode": {
    "name": "ipython",
    "version": 3
   },
   "file_extension": ".py",
   "mimetype": "text/x-python",
   "name": "python",
   "nbconvert_exporter": "python",
   "pygments_lexer": "ipython3",
   "version": "3.8.3"
  }
 },
 "nbformat": 4,
 "nbformat_minor": 4
}
