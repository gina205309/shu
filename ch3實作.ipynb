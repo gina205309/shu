{
 "cells": [
  {
   "cell_type": "code",
   "execution_count": 1,
   "metadata": {},
   "outputs": [
    {
     "name": "stdout",
     "output_type": "stream",
     "text": [
      "Enter height: 23.5\n",
      "Enter weight: 19\n",
      "Height =  23.50\n",
      "Weight =  19.00\n",
      "Perimeter =  85.00\n",
      "Area =  446.50\n"
     ]
    }
   ],
   "source": [
    "a = eval(input('Enter height: '))\n",
    "b = eval(input('Enter weight: '))\n",
    "print('Height = ', '%.2F'%(a))\n",
    "print('Weight = ', '%.2F'%(b))\n",
    "print('Perimeter = ', '%.2F'%(a * 2 + b * 2))\n",
    "print( 'Area = ', '%.2F'%(a * b))"
   ]
  },
  {
   "cell_type": "code",
   "execution_count": 2,
   "metadata": {},
   "outputs": [
    {
     "name": "stdout",
     "output_type": "stream",
     "text": [
      "正三角形的邊長: 3\n",
      "高:  2.598076211353316\n",
      "面積:  3.8971143170299736\n"
     ]
    }
   ],
   "source": [
    "s = eval(input('正三角形的邊長: '))\n",
    "print('高: ', ((3**(1/2) )/ 2)*s )\n",
    "print('面積: ', (3**(1/2)/4)*(s**2))"
   ]
  },
  {
   "cell_type": "code",
   "execution_count": 3,
   "metadata": {},
   "outputs": [
    {
     "name": "stdout",
     "output_type": "stream",
     "text": [
      "x(min) = 10\n",
      "y(sec) = 25\n",
      "z(km) = 3\n",
      "Speed =  10.8 miles/hour"
     ]
    }
   ],
   "source": [
    "x = eval(input('x(min) = '))\n",
    "y = eval(input('y(sec) = '))\n",
    "z = eval(input('z(km) = '))\n",
    "print('Speed = ', (z/1.6)/(x/60+25/3600), end=' miles/hour')"
   ]
  },
  {
   "cell_type": "code",
   "execution_count": 5,
   "metadata": {},
   "outputs": [
    {
     "name": "stdout",
     "output_type": "stream",
     "text": [
      "輸入miles: 1\n",
      "1.6Km"
     ]
    }
   ],
   "source": [
    "m = eval(input('輸入miles: '))\n",
    "print((m*1.6), end='Km')"
   ]
  },
  {
   "cell_type": "code",
   "execution_count": 7,
   "metadata": {},
   "outputs": [
    {
     "name": "stdout",
     "output_type": "stream",
     "text": [
      "輸入華氏溫度: 79\n",
      "攝氏溫度 =  26.11111111111111\n"
     ]
    }
   ],
   "source": [
    "h = eval(input('輸入華氏溫度: '))\n",
    "print('攝氏溫度 = ', (h-32)*5/9)"
   ]
  },
  {
   "cell_type": "code",
   "execution_count": 8,
   "metadata": {},
   "outputs": [
    {
     "name": "stdout",
     "output_type": "stream",
     "text": [
      "輸入三個整數(1): 12\n",
      "輸入三個整數(2): 13\n",
      "輸入三個整數(3): 16\n",
      "總和:  41\n",
      "平均數:  13.666666666666666\n"
     ]
    }
   ],
   "source": [
    "o = eval(input('輸入三個整數(1): '))\n",
    "p = eval(input('輸入三個整數(2): '))\n",
    "q = eval(input('輸入三個整數(3): '))\n",
    "print('總和: ', o+p+q)\n",
    "print('平均數: ', (o+p+q)/3)"
   ]
  },
  {
   "cell_type": "code",
   "execution_count": 13,
   "metadata": {},
   "outputs": [
    {
     "name": "stdout",
     "output_type": "stream",
     "text": [
      "輸入姓名(字串): 好餓\n",
      "輸入學號(整數): 63\n",
      "輸入地址(字串): 我家門前有小河\n",
      "好餓\n",
      "63\n",
      "我家門前有小河\n"
     ]
    }
   ],
   "source": [
    "e = str(input('輸入姓名(字串): '))\n",
    "f = eval(input('輸入學號(整數): '))\n",
    "g = str(input('輸入地址(字串): '))\n",
    "print(e)\n",
    "print(f)\n",
    "print(g)"
   ]
  },
  {
   "cell_type": "code",
   "execution_count": 18,
   "metadata": {},
   "outputs": [
    {
     "name": "stdout",
     "output_type": "stream",
     "text": [
      "輸入一圓半徑: 1\n",
      "面積 =  3.141592653589793\n",
      "周長 =  6.283185307179586\n"
     ]
    }
   ],
   "source": [
    "import math\n",
    "r = eval(input('輸入一圓半徑: '))\n",
    "print('面積 = ', r*r*(math.pi))\n",
    "print('周長 = ', r*2*(math.pi))"
   ]
  },
  {
   "cell_type": "code",
   "execution_count": 19,
   "metadata": {},
   "outputs": [
    {
     "name": "stdout",
     "output_type": "stream",
     "text": [
      "輸入矩形的長: 10\n",
      "輸入矩形的寬: 11\n",
      "矩形的面積:  110\n",
      "矩形的周長:  42\n"
     ]
    }
   ],
   "source": [
    "u = eval(input('輸入矩形的長: '))\n",
    "v = eval(input('輸入矩形的寬: '))\n",
    "print('矩形的面積: ', u*v)\n",
    "print('矩形的周長: ', u*2+v*2)"
   ]
  },
  {
   "cell_type": "code",
   "execution_count": 7,
   "metadata": {},
   "outputs": [
    {
     "name": "stdout",
     "output_type": "stream",
     "text": [
      "輸入x: 10\n",
      "輸入y: 20\n",
      "-654.25\n"
     ]
    }
   ],
   "source": [
    "k = eval(input('輸入x: '))\n",
    "l = eval(input('輸入y: '))\n",
    "print((3+4*k)/5-(10*(l-5)*(l+l+5))/k+9*(4/k+(9+k)/l))"
   ]
  },
  {
   "cell_type": "code",
   "execution_count": 16,
   "metadata": {},
   "outputs": [
    {
     "name": "stdout",
     "output_type": "stream",
     "text": [
      "輸入a: 1\n",
      "輸入b: 2\n",
      "輸入c: 3\n",
      "-61.24761904761905\n"
     ]
    }
   ],
   "source": [
    "w = eval(input('輸入a: '))\n",
    "s = eval(input('輸入b: '))\n",
    "x = eval(input('輸入c: '))\n",
    "print((4/(3*(w+34)))-(9*(w+s*x))+(3+3*(2+w))/(w+3*s))"
   ]
  }
 ],
 "metadata": {
  "kernelspec": {
   "display_name": "Python 3",
   "language": "python",
   "name": "python3"
  },
  "language_info": {
   "codemirror_mode": {
    "name": "ipython",
    "version": 3
   },
   "file_extension": ".py",
   "mimetype": "text/x-python",
   "name": "python",
   "nbconvert_exporter": "python",
   "pygments_lexer": "ipython3",
   "version": "3.8.3"
  }
 },
 "nbformat": 4,
 "nbformat_minor": 2
}
