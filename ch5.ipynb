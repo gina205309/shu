{
 "cells": [
  {
   "cell_type": "code",
   "execution_count": 7,
   "metadata": {},
   "outputs": [
    {
     "name": "stdout",
     "output_type": "stream",
     "text": [
      "Enater your score: 99.9\n",
      "Your score is 109\n"
     ]
    }
   ],
   "source": [
    "score = eval(input('Enater your score: '))\n",
    "if score >= 60:\n",
    "    score += 10\n",
    "print('Your score is %d'%(score))"
   ]
  },
  {
   "cell_type": "code",
   "execution_count": 8,
   "metadata": {},
   "outputs": [
    {
     "name": "stdout",
     "output_type": "stream",
     "text": [
      "Enter your score: 25\n",
      "Your score is 33\n"
     ]
    }
   ],
   "source": [
    "score = eval(input('Enter your score: '))\n",
    "if score >= 28:\n",
    "    score += 10\n",
    "else:\n",
    "    score +=8\n",
    "print('Your score is %d'%(score))"
   ]
  },
  {
   "cell_type": "code",
   "execution_count": 10,
   "metadata": {},
   "outputs": [
    {
     "name": "stdout",
     "output_type": "stream",
     "text": [
      "Enter temperature today: 30\n",
      "Hot\n",
      "Over\n"
     ]
    }
   ],
   "source": [
    "temperature = eval(input('Enter temperature today: '))\n",
    "if temperature >= 28:\n",
    "    print('Hot')\n",
    "else:\n",
    "    print('Comfortable')\n",
    "print('Over')"
   ]
  },
  {
   "cell_type": "code",
   "execution_count": 12,
   "metadata": {},
   "outputs": [
    {
     "name": "stdout",
     "output_type": "stream",
     "text": [
      "Enter temperature today: 25\n",
      "Comfortable\n",
      "Over\n"
     ]
    }
   ],
   "source": [
    "temperature = eval(input('Enter temperature today: '))\n",
    "if temperature >= 28:\n",
    "    print('Hot')\n",
    "elif temperature >= 22:\n",
    "    print('Comfortable')\n",
    "else:\n",
    "    print('Cold')\n",
    "print('Over')"
   ]
  },
  {
   "cell_type": "code",
   "execution_count": 13,
   "metadata": {},
   "outputs": [
    {
     "name": "stdout",
     "output_type": "stream",
     "text": [
      "Enter temperature today: 30\n",
      "Enter humility today: 35\n",
      "Hot\n",
      "Over\n"
     ]
    }
   ],
   "source": [
    "temperature = eval(input('Enter temperature today: '))\n",
    "humility = eval(input('Enter humility today: '))\n",
    "if temperature >= 28:\n",
    "    print('Hot')\n",
    "elif temperature >= 22 and humility >= 40 and humility <= 50:\n",
    "    print('Comfortable')\n",
    "else:\n",
    "    print('Cold')\n",
    "print('Over')"
   ]
  },
  {
   "cell_type": "code",
   "execution_count": 20,
   "metadata": {},
   "outputs": [
    {
     "name": "stdout",
     "output_type": "stream",
     "text": [
      "Enter a character: S\n",
      "S is uppercase character\n"
     ]
    }
   ],
   "source": [
    "char = input('Enter a character: ')\n",
    "if char >= 'a' and char <= 'z':\n",
    "    print('%c is lowerecase character'%(char))\n",
    "elif char >='A' and char <='Z':\n",
    "    print('%c is uppercase character'%(char))\n",
    "else:\n",
    "    print('%s is other character'%(char))"
   ]
  },
  {
   "cell_type": "code",
   "execution_count": 22,
   "metadata": {},
   "outputs": [
    {
     "name": "stdout",
     "output_type": "stream",
     "text": [
      "Enter a number: 23.5\n",
      "23 is odd number.\n",
      "Test is over\n"
     ]
    }
   ],
   "source": [
    "num = eval(input('Enter a number: '))\n",
    "if num % 2 == 0:\n",
    "    print('%d'%(num), end='')\n",
    "    print(' is even number.')\n",
    "else:\n",
    "    print('%d'%(num), end='')\n",
    "    print(' is odd number.')\n",
    "print('Test is over')"
   ]
  },
  {
   "cell_type": "code",
   "execution_count": 53,
   "metadata": {},
   "outputs": [
    {
     "name": "stdout",
     "output_type": "stream",
     "text": [
      "Please input radius: 23\n",
      "radius =  23\n",
      "area =  1661.89582\n"
     ]
    }
   ],
   "source": [
    "radius = eval(input(\"Please input radius: \"))\n",
    "if radius < 0:\n",
    "    print(\"Negative is not invalid !!!\")\n",
    "else:\n",
    "    area = radius * radius * 3.14158\n",
    "print(\"radius = \", radius)\n",
    "print(\"area = \", area)"
   ]
  },
  {
   "cell_type": "code",
   "execution_count": 63,
   "metadata": {},
   "outputs": [
    {
     "name": "stdout",
     "output_type": "stream",
     "text": [
      "Enter temperature today: 23\n",
      "Comfortable\n",
      "Over\n"
     ]
    }
   ],
   "source": [
    "temperature = eval(input('Enter temperature today: '))\n",
    "if temperature >= 28:\n",
    "    print('Hot')\n",
    "elif temperature >= 22:\n",
    "    print('Comfortable')\n",
    "else:\n",
    "    print('Cold')\n",
    "print('Over')"
   ]
  },
  {
   "cell_type": "code",
   "execution_count": 66,
   "metadata": {},
   "outputs": [
    {
     "name": "stdout",
     "output_type": "stream",
     "text": [
      "Enter  your score: 23\n",
      "Your score is 31\n"
     ]
    }
   ],
   "source": [
    "score = eval(input('Enter  your score: '))\n",
    "if score >= 60:\n",
    "    score += 10\n",
    "else:\n",
    "    score += 8\n",
    "print('Your score is %d'%(score))"
   ]
  },
  {
   "cell_type": "code",
   "execution_count": 68,
   "metadata": {},
   "outputs": [
    {
     "name": "stdout",
     "output_type": "stream",
     "text": [
      "Enter temperature today: 23\n",
      "Enter humility today: 25\n",
      "Comfortable\n",
      "Over\n"
     ]
    }
   ],
   "source": [
    "temperature = eval(input('Enter temperature today: '))\n",
    "humility = eval(input('Enter humility today: '))\n",
    "if temperature >= 28:\n",
    "    print('Hot')\n",
    "elif temperature >= 22 & humility >= 40 & humility <= 50:\n",
    "    print('Comfortable')\n",
    "else:\n",
    "    print('Cold')\n",
    "print('Over')"
   ]
  },
  {
   "cell_type": "code",
   "execution_count": 89,
   "metadata": {},
   "outputs": [
    {
     "name": "stdout",
     "output_type": "stream",
     "text": [
      "Please input what year? 2000\n"
     ]
    },
    {
     "ename": "NameError",
     "evalue": "name 'yaer' is not defined",
     "output_type": "error",
     "traceback": [
      "\u001b[0;31m---------------------------------------------------------------------------\u001b[0m",
      "\u001b[0;31mNameError\u001b[0m                                 Traceback (most recent call last)",
      "\u001b[0;32m<ipython-input-89-3dfc96ae6a78>\u001b[0m in \u001b[0;36m<module>\u001b[0;34m\u001b[0m\n\u001b[1;32m      1\u001b[0m \u001b[0myear\u001b[0m \u001b[0;34m=\u001b[0m \u001b[0meval\u001b[0m\u001b[0;34m(\u001b[0m\u001b[0minput\u001b[0m\u001b[0;34m(\u001b[0m\u001b[0;34m\"Please input what year? \"\u001b[0m\u001b[0;34m)\u001b[0m\u001b[0;34m)\u001b[0m\u001b[0;34m\u001b[0m\u001b[0;34m\u001b[0m\u001b[0m\n\u001b[1;32m      2\u001b[0m \u001b[0;32mif\u001b[0m \u001b[0myear\u001b[0m \u001b[0;34m%\u001b[0m \u001b[0;36m400\u001b[0m \u001b[0;34m==\u001b[0m \u001b[0;36m0\u001b[0m \u001b[0;32mor\u001b[0m \u001b[0;34m(\u001b[0m\u001b[0myaer\u001b[0m \u001b[0;34m%\u001b[0m \u001b[0;36m4\u001b[0m \u001b[0;34m==\u001b[0m \u001b[0;36m0\u001b[0m \u001b[0;32mand\u001b[0m \u001b[0myaer\u001b[0m \u001b[0;34m%\u001b[0m \u001b[0;36m100\u001b[0m \u001b[0;34m!=\u001b[0m \u001b[0;36m0\u001b[0m\u001b[0;34m)\u001b[0m\u001b[0;34m:\u001b[0m\u001b[0;34m\u001b[0m\u001b[0;34m\u001b[0m\u001b[0m\n\u001b[0;32m----> 3\u001b[0;31m     \u001b[0mprint\u001b[0m\u001b[0;34m(\u001b[0m\u001b[0myaer\u001b[0m\u001b[0;34m,\u001b[0m \u001b[0mend\u001b[0m\u001b[0;34m=\u001b[0m\u001b[0;34m\"is leap yaer\"\u001b[0m\u001b[0;34m)\u001b[0m\u001b[0;34m\u001b[0m\u001b[0;34m\u001b[0m\u001b[0m\n\u001b[0m\u001b[1;32m      4\u001b[0m \u001b[0;32melse\u001b[0m\u001b[0;34m:\u001b[0m\u001b[0;34m\u001b[0m\u001b[0;34m\u001b[0m\u001b[0m\n\u001b[1;32m      5\u001b[0m     \u001b[0mprint\u001b[0m\u001b[0;34m(\u001b[0m\u001b[0myear\u001b[0m\u001b[0;34m,\u001b[0m \u001b[0mend\u001b[0m\u001b[0;34m=\u001b[0m\u001b[0;34m\"is not leap year\"\u001b[0m\u001b[0;34m)\u001b[0m\u001b[0;34m\u001b[0m\u001b[0;34m\u001b[0m\u001b[0m\n",
      "\u001b[0;31mNameError\u001b[0m: name 'yaer' is not defined"
     ]
    }
   ],
   "source": [
    "year = eval(input(\"Please input what year? \"))\n",
    "if year % 400 == 0 or (yaer % 4 == 0 and yaer % 100 != 0):\n",
    "    print(yaer, end=\"is leap yaer\")\n",
    "else:\n",
    "    print(year, end=\"is not leap year\")"
   ]
  },
  {
   "cell_type": "code",
   "execution_count": 79,
   "metadata": {},
   "outputs": [
    {
     "name": "stdout",
     "output_type": "stream",
     "text": [
      "Enter a character: G\n",
      "G is uppercase character\n"
     ]
    }
   ],
   "source": [
    "char = input('Enter a character: ')\n",
    "if char >= 'a' and char <= 'z':\n",
    "    print('%c is lowercase character'%(char))\n",
    "elif char >='A' and char <='Z':\n",
    "    print('%c is uppercase character'%(char))\n",
    "else:\n",
    "    print('%s is other character'%(char))"
   ]
  },
  {
   "cell_type": "code",
   "execution_count": 86,
   "metadata": {},
   "outputs": [
    {
     "name": "stdout",
     "output_type": "stream",
     "text": [
      "Enter a number: 23\n",
      "23 is even number.\n",
      "Test is over.\n"
     ]
    }
   ],
   "source": [
    "num = eval(input('Enter a number: '))\n",
    "if num % 2 == 0:\n",
    "    print('%d'%(num), end='')\n",
    "    print(' is even number.')\n",
    "else:\n",
    "    print('%d'%(num), end='')\n",
    "    print(' is even number.')\n",
    "print('Test is over.')"
   ]
  }
 ],
 "metadata": {
  "kernelspec": {
   "display_name": "Python 3",
   "language": "python",
   "name": "python3"
  },
  "language_info": {
   "codemirror_mode": {
    "name": "ipython",
    "version": 3
   },
   "file_extension": ".py",
   "mimetype": "text/x-python",
   "name": "python",
   "nbconvert_exporter": "python",
   "pygments_lexer": "ipython3",
   "version": "3.8.3"
  }
 },
 "nbformat": 4,
 "nbformat_minor": 4
}
